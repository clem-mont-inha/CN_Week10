{
  "nbformat": 4,
  "nbformat_minor": 0,
  "metadata": {
    "colab": {
      "provenance": [],
      "authorship_tag": "ABX9TyPwLZYQbT13GNsEwmgD3XCj",
      "include_colab_link": true
    },
    "kernelspec": {
      "name": "python3",
      "display_name": "Python 3"
    },
    "language_info": {
      "name": "python"
    }
  },
  "cells": [
    {
      "cell_type": "markdown",
      "metadata": {
        "id": "view-in-github",
        "colab_type": "text"
      },
      "source": [
        "<a href=\"https://colab.research.google.com/github/clem-mont-inha/CN_Week10/blob/main/CN_Week10.ipynb\" target=\"_parent\"><img src=\"https://colab.research.google.com/assets/colab-badge.svg\" alt=\"Open In Colab\"/></a>"
      ]
    },
    {
      "cell_type": "code",
      "source": [
        "!apt-get install iputils-ping traceroute net-tools"
      ],
      "metadata": {
        "colab": {
          "base_uri": "https://localhost:8080/"
        },
        "id": "ZmKZmqtNz0-Z",
        "outputId": "b9bbb6a6-9731-44eb-c4de-545a887575f5"
      },
      "execution_count": 13,
      "outputs": [
        {
          "output_type": "stream",
          "name": "stdout",
          "text": [
            "Reading package lists... Done\n",
            "Building dependency tree... Done\n",
            "Reading state information... Done\n",
            "iputils-ping is already the newest version (3:20211215-1).\n",
            "traceroute is already the newest version (1:2.1.0-2).\n",
            "The following NEW packages will be installed:\n",
            "  net-tools\n",
            "0 upgraded, 1 newly installed, 0 to remove and 19 not upgraded.\n",
            "Need to get 204 kB of archives.\n",
            "After this operation, 819 kB of additional disk space will be used.\n",
            "Get:1 http://archive.ubuntu.com/ubuntu jammy/main amd64 net-tools amd64 1.60+git20181103.0eebece-1ubuntu5 [204 kB]\n",
            "Fetched 204 kB in 1s (246 kB/s)\n",
            "Selecting previously unselected package net-tools.\n",
            "(Reading database ... 120904 files and directories currently installed.)\n",
            "Preparing to unpack .../net-tools_1.60+git20181103.0eebece-1ubuntu5_amd64.deb ...\n",
            "Unpacking net-tools (1.60+git20181103.0eebece-1ubuntu5) ...\n",
            "Setting up net-tools (1.60+git20181103.0eebece-1ubuntu5) ...\n",
            "Processing triggers for man-db (2.10.2-1) ...\n"
          ]
        }
      ]
    },
    {
      "cell_type": "code",
      "execution_count": 17,
      "metadata": {
        "colab": {
          "base_uri": "https://localhost:8080/"
        },
        "id": "Ls6uYWHmzcBR",
        "outputId": "21ad6fc8-7da2-4681-b8bf-e74291aca9dc"
      },
      "outputs": [
        {
          "output_type": "stream",
          "name": "stdout",
          "text": [
            "Overwriting lab_session.sh\n"
          ]
        }
      ],
      "source": [
        "%%writefile lab_session.sh\n",
        "\n",
        "#!/bin/bash\n",
        "\n",
        "ping -c 4 google.com\n",
        "\n",
        "ping -c 4 -W 2 google.com\n",
        "\n",
        "ping -c 4 -s 100 google.com\n",
        "\n",
        "ping -c 4 -I eth0 google.com\n",
        "\n",
        "traceroute google.com\n",
        "\n",
        "traceroute -m 5 google.com\n",
        "\n",
        "traceroute -I google.com\n",
        "\n",
        "traceroute --wait=2 google.com\n",
        "\n",
        "traceroute -p 80 google.com\n",
        "\n",
        "netstat -l\n",
        "\n",
        "ss -l\n",
        "\n",
        "ss -u -a\n"
      ]
    },
    {
      "cell_type": "code",
      "source": [
        "!chmod +x lab_session.sh"
      ],
      "metadata": {
        "id": "6gkIT-P3zvOS"
      },
      "execution_count": 3,
      "outputs": []
    },
    {
      "cell_type": "code",
      "source": [
        "!./lab_session.sh"
      ],
      "metadata": {
        "colab": {
          "base_uri": "https://localhost:8080/"
        },
        "id": "kf3P8Gc4zyL_",
        "outputId": "7985d136-e4d2-40e0-8dea-4815e826d1d0"
      },
      "execution_count": 18,
      "outputs": [
        {
          "output_type": "stream",
          "name": "stdout",
          "text": [
            "PING google.com (142.251.171.101) 56(84) bytes of data.\n",
            "64 bytes from ny-in-f101.1e100.net (142.251.171.101): icmp_seq=1 ttl=114 time=1.58 ms\n",
            "64 bytes from ny-in-f101.1e100.net (142.251.171.101): icmp_seq=2 ttl=114 time=1.21 ms\n",
            "64 bytes from ny-in-f101.1e100.net (142.251.171.101): icmp_seq=3 ttl=114 time=1.13 ms\n",
            "64 bytes from ny-in-f101.1e100.net (142.251.171.101): icmp_seq=4 ttl=114 time=1.13 ms\n",
            "\n",
            "--- google.com ping statistics ---\n",
            "4 packets transmitted, 4 received, 0% packet loss, time 3004ms\n",
            "rtt min/avg/max/mdev = 1.126/1.260/1.576/0.185 ms\n",
            "PING google.com (142.251.171.101) 56(84) bytes of data.\n",
            "64 bytes from ny-in-f101.1e100.net (142.251.171.101): icmp_seq=1 ttl=114 time=0.983 ms\n",
            "64 bytes from ny-in-f101.1e100.net (142.251.171.101): icmp_seq=2 ttl=114 time=1.05 ms\n",
            "64 bytes from ny-in-f101.1e100.net (142.251.171.101): icmp_seq=3 ttl=114 time=1.05 ms\n",
            "64 bytes from ny-in-f101.1e100.net (142.251.171.101): icmp_seq=4 ttl=114 time=1.07 ms\n",
            "\n",
            "--- google.com ping statistics ---\n",
            "4 packets transmitted, 4 received, 0% packet loss, time 3004ms\n",
            "rtt min/avg/max/mdev = 0.983/1.037/1.070/0.032 ms\n",
            "PING google.com (142.251.171.101) 100(128) bytes of data.\n",
            "76 bytes from ny-in-f101.1e100.net (142.251.171.101): icmp_seq=1 ttl=114 (truncated)\n",
            "76 bytes from ny-in-f101.1e100.net (142.251.171.101): icmp_seq=2 ttl=114 (truncated)\n",
            "76 bytes from ny-in-f101.1e100.net (142.251.171.101): icmp_seq=3 ttl=114 (truncated)\n",
            "76 bytes from ny-in-f101.1e100.net (142.251.171.101): icmp_seq=4 ttl=114 (truncated)\n",
            "\n",
            "--- google.com ping statistics ---\n",
            "4 packets transmitted, 4 received, 0% packet loss, time 3003ms\n",
            "rtt min/avg/max/mdev = 1.082/1.114/1.142/0.023 ms\n",
            "PING google.com (142.251.171.101) from 172.28.0.12 eth0: 56(84) bytes of data.\n",
            "64 bytes from ny-in-f101.1e100.net (142.251.171.101): icmp_seq=1 ttl=114 time=1.03 ms\n",
            "64 bytes from ny-in-f101.1e100.net (142.251.171.101): icmp_seq=2 ttl=114 time=1.09 ms\n",
            "64 bytes from ny-in-f101.1e100.net (142.251.171.101): icmp_seq=3 ttl=114 time=1.08 ms\n",
            "64 bytes from ny-in-f101.1e100.net (142.251.171.101): icmp_seq=4 ttl=114 time=1.07 ms\n",
            "\n",
            "--- google.com ping statistics ---\n",
            "4 packets transmitted, 4 received, 0% packet loss, time 3005ms\n",
            "rtt min/avg/max/mdev = 1.034/1.067/1.090/0.020 ms\n",
            "traceroute to google.com (142.251.171.101), 30 hops max, 60 byte packets\n",
            " 1  172.28.0.1 (172.28.0.1)  0.028 ms  0.011 ms  0.009 ms\n",
            " 2  * * *\n",
            " 3  142.250.57.104 (142.250.57.104)  1.057 ms 142.250.57.100 (142.250.57.100)  1.304 ms 142.250.57.108 (142.250.57.108)  1.372 ms\n",
            " 4  172.253.76.25 (172.253.76.25)  11.673 ms 172.253.79.6 (172.253.79.6)  11.639 ms 209.85.251.94 (209.85.251.94)  1.966 ms\n",
            " 5  209.85.241.231 (209.85.241.231)  2.495 ms 209.85.249.129 (209.85.249.129)  2.819 ms 172.253.77.135 (172.253.77.135)  2.666 ms\n",
            " 6  * 209.85.250.177 (209.85.250.177)  1.544 ms 142.251.230.92 (142.251.230.92)  2.299 ms\n",
            " 7  142.251.251.211 (142.251.251.211)  2.103 ms * *\n",
            " 8  * * *\n",
            " 9  * * *\n",
            "10  * * *\n",
            "11  * * *\n",
            "12  * * *\n",
            "13  * * *\n",
            "14  * * *\n",
            "15  * * *\n",
            "16  * * *\n",
            "17  ny-in-f101.1e100.net (142.251.171.101)  1.212 ms *  1.184 ms\n",
            "traceroute to google.com (142.251.171.101), 5 hops max, 60 byte packets\n",
            " 1  172.28.0.1 (172.28.0.1)  0.026 ms  0.011 ms  0.015 ms\n",
            " 2  * * *\n",
            " 3  142.251.70.174 (142.251.70.174)  0.883 ms 142.250.232.18 (142.250.232.18)  2.645 ms 142.251.70.254 (142.251.70.254)  1.049 ms\n",
            " 4  142.250.231.45 (142.250.231.45)  0.998 ms 172.253.77.152 (172.253.77.152)  11.936 ms 172.253.75.249 (172.253.75.249)  2.580 ms\n",
            " 5  209.85.249.129 (209.85.249.129)  2.463 ms 172.253.77.135 (172.253.77.135)  2.124 ms 209.85.248.175 (209.85.248.175)  5.358 ms\n",
            "traceroute to google.com (142.251.171.101), 30 hops max, 60 byte packets\n",
            " 1  172.28.0.1 (172.28.0.1)  0.028 ms  0.007 ms  0.004 ms\n",
            " 2  * * *\n",
            " 3  142.250.57.88 (142.250.57.88)  1.371 ms  1.367 ms  1.534 ms\n",
            " 4  172.253.77.166 (172.253.77.166)  46.152 ms  46.750 ms  46.817 ms\n",
            " 5  209.85.254.99 (209.85.254.99)  3.585 ms  3.581 ms  3.577 ms\n",
            " 6  142.250.231.82 (142.250.231.82)  2.659 ms  1.810 ms  1.775 ms\n",
            " 7  142.251.251.213 (142.251.251.213)  1.041 ms  1.053 ms  1.039 ms\n",
            " 8  * * *\n",
            " 9  * * *\n",
            "10  * * *\n",
            "11  * * *\n",
            "12  * * *\n",
            "13  * * *\n",
            "14  * * *\n",
            "15  * * *\n",
            "16  * * *\n",
            "17  ny-in-f101.1e100.net (142.251.171.101)  1.057 ms  1.051 ms  1.001 ms\n",
            "traceroute to google.com (142.251.171.101), 30 hops max, 60 byte packets\n",
            " 1  172.28.0.1 (172.28.0.1)  0.032 ms  0.009 ms  0.008 ms\n",
            " 2  209.85.253.25 (209.85.253.25)  3.782 ms * *\n",
            " 3  142.250.57.88 (142.250.57.88)  0.603 ms 142.250.57.100 (142.250.57.100)  0.318 ms 142.251.70.176 (142.251.70.176)  1.120 ms\n",
            " 4  172.253.79.98 (172.253.79.98)  1.515 ms 209.85.251.94 (209.85.251.94)  2.174 ms 142.251.251.205 (142.251.251.205)  2.020 ms\n",
            " 5  142.251.250.181 (142.251.250.181)  1.999 ms 209.85.248.175 (209.85.248.175)  1.375 ms *\n",
            " 6  209.85.250.177 (209.85.250.177)  1.141 ms 142.251.230.92 (142.251.230.92)  2.199 ms 72.14.239.196 (72.14.239.196)  2.061 ms\n",
            " 7  216.239.47.255 (216.239.47.255)  1.184 ms 216.239.47.187 (216.239.47.187)  2.253 ms 142.251.251.219 (142.251.251.219)  2.075 ms\n",
            " 8  * * *\n",
            " 9  * * *\n",
            "10  * * *\n",
            "11  * * *\n",
            "12  * * *\n",
            "13  * * *\n",
            "14  * * ny-in-f101.1e100.net (142.251.171.101)  1.045 ms\n",
            "traceroute to google.com (142.251.171.101), 30 hops max, 60 byte packets\n",
            " 1  172.28.0.1 (172.28.0.1)  0.026 ms  0.008 ms  0.016 ms\n",
            " 2  * * *\n",
            " 3  * * *\n",
            " 4  * * *\n",
            " 5  * * *\n",
            " 6  * * *\n",
            " 7  * * *\n",
            " 8  * * *\n",
            " 9  * * *\n",
            "10  * * *\n",
            "11  * * *\n",
            "12  * * *\n",
            "13  * * *\n",
            "14  * * *\n",
            "15  * * *\n",
            "16  * * *\n",
            "17  * * *\n",
            "18  * * *\n",
            "19  * * *\n",
            "20  * * *\n",
            "21  * * *\n",
            "22  * * *\n",
            "23  * * *\n",
            "24  * * *\n",
            "25  * * *\n",
            "26  * * *\n",
            "27  * * *\n",
            "28  * * *\n",
            "29  * * *\n",
            "30  * * *\n",
            "Active Internet connections (only servers)\n",
            "Proto Recv-Q Send-Q Local Address           Foreign Address         State      \n",
            "tcp        0      0 67e4033e0c19:9000       0.0.0.0:*               LISTEN     \n",
            "tcp        0      0 127.0.0.11:38853        0.0.0.0:*               LISTEN     \n",
            "tcp        0      0 localhost:45977         0.0.0.0:*               LISTEN     \n",
            "tcp        0      0 localhost:3453          0.0.0.0:*               LISTEN     \n",
            "tcp        0      0 localhost:41045         0.0.0.0:*               LISTEN     \n",
            "tcp        0      0 localhost:41721         0.0.0.0:*               LISTEN     \n",
            "tcp        0      0 67e4033e0c19:6000       0.0.0.0:*               LISTEN     \n",
            "tcp6       0      0 [::]:8080               [::]:*                  LISTEN     \n",
            "udp        0      0 127.0.0.11:37408        0.0.0.0:*                          \n",
            "Active UNIX domain sockets (only servers)\n",
            "Proto RefCnt Flags       Type       State         I-Node   Path\n",
            "unix  2      [ ACC ]     STREAM     LISTENING     27132    /root/.local/share/jupyter/runtime/kernel-7e2f202c-32d8-4d48-91a9-611afc0c67ec-ipc-1\n",
            "unix  2      [ ACC ]     STREAM     LISTENING     27133    /root/.local/share/jupyter/runtime/kernel-7e2f202c-32d8-4d48-91a9-611afc0c67ec-ipc-3\n",
            "unix  2      [ ACC ]     STREAM     LISTENING     27134    /root/.local/share/jupyter/runtime/kernel-7e2f202c-32d8-4d48-91a9-611afc0c67ec-ipc-4\n",
            "unix  2      [ ACC ]     STREAM     LISTENING     27135    /root/.local/share/jupyter/runtime/kernel-7e2f202c-32d8-4d48-91a9-611afc0c67ec-ipc-2\n",
            "unix  2      [ ACC ]     STREAM     LISTENING     26417    /root/.local/share/jupyter/runtime/kernel-7e2f202c-32d8-4d48-91a9-611afc0c67ec-ipc-5\n",
            "unix  2      [ ACC ]     STREAM     LISTENING     18171    /tmp/debugger_2q4b825uo0\n",
            "Netid State  Recv-Q Send-Q                                                                        Local Address:Port     Peer Address:PortProcess\n",
            "nl    UNCONN 0      0                                                                                      rtnl:793                  *           \n",
            "nl    UNCONN 0      0                                                                                      rtnl:kernel               *           \n",
            "nl    UNCONN 4352   0                                                                                   tcpdiag:ss/15298             *           \n",
            "nl    UNCONN 768    0                                                                                   tcpdiag:kernel               *           \n",
            "nl    UNCONN 0      0                                                                                      xfrm:kernel               *           \n",
            "nl    UNCONN 0      0                                                                                     audit:kernel               *           \n",
            "nl    UNCONN 0      0                                                                                 fiblookup:kernel               *           \n",
            "nl    UNCONN 0      0                                                                                       nft:kernel               *           \n",
            "nl    UNCONN 0      0                                                                                    uevent:kernel               *           \n",
            "nl    UNCONN 0      0                                                                                      genl:kernel               *           \n",
            "u_str LISTEN 0      100    /root/.local/share/jupyter/runtime/kernel-7e2f202c-32d8-4d48-91a9-611afc0c67ec-ipc-1 27132               * 0          \n",
            "u_str LISTEN 0      100    /root/.local/share/jupyter/runtime/kernel-7e2f202c-32d8-4d48-91a9-611afc0c67ec-ipc-3 27133               * 0          \n",
            "u_str LISTEN 0      100    /root/.local/share/jupyter/runtime/kernel-7e2f202c-32d8-4d48-91a9-611afc0c67ec-ipc-4 27134               * 0          \n",
            "u_str LISTEN 0      100    /root/.local/share/jupyter/runtime/kernel-7e2f202c-32d8-4d48-91a9-611afc0c67ec-ipc-2 27135               * 0          \n",
            "u_str LISTEN 0      100    /root/.local/share/jupyter/runtime/kernel-7e2f202c-32d8-4d48-91a9-611afc0c67ec-ipc-5 26417               * 0          \n",
            "u_str LISTEN 0      4096                                                               /tmp/debugger_2q4b825uo0 18171               * 0          \n",
            "udp   UNCONN 0      0                                                                                127.0.0.11:37408         0.0.0.0:*          \n",
            "tcp   LISTEN 0      4096                                                                             127.0.0.11:38853         0.0.0.0:*          \n",
            "tcp   LISTEN 0      128                                                                             172.28.0.12:9000          0.0.0.0:*          \n",
            "tcp   LISTEN 0      4096                                                                            172.28.0.12:6000          0.0.0.0:*          \n",
            "tcp   LISTEN 0      4096                                                                              127.0.0.1:41045         0.0.0.0:*          \n",
            "tcp   LISTEN 0      4096                                                                              127.0.0.1:41721         0.0.0.0:*          \n",
            "tcp   LISTEN 0      100                                                                               127.0.0.1:45977         0.0.0.0:*          \n",
            "tcp   LISTEN 0      128                                                                               127.0.0.1:3453          0.0.0.0:*          \n",
            "tcp   LISTEN 0      511                                                                                       *:8080                *:*          \n",
            "State  Recv-Q Send-Q Local Address:Port  Peer Address:PortProcess\n",
            "UNCONN 0      0         127.0.0.11:37408      0.0.0.0:*          \n"
          ]
        }
      ]
    }
  ]
}